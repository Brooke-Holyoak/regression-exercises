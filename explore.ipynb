{
 "cells": [
  {
   "cell_type": "code",
   "execution_count": 1,
   "id": "431d16a0-cb72-4d80-803a-f06fba5e7f25",
   "metadata": {},
   "outputs": [],
   "source": [
    "#still recovering from illness... will catch up"
   ]
  },
  {
   "cell_type": "code",
   "execution_count": null,
   "id": "0724d943-93e2-4e58-b4ad-a76a6cdf646d",
   "metadata": {},
   "outputs": [],
   "source": []
  }
 ],
 "metadata": {
  "kernelspec": {
   "display_name": "Python 3",
   "language": "python",
   "name": "python3"
  },
  "language_info": {
   "codemirror_mode": {
    "name": "ipython",
    "version": 3
   },
   "file_extension": ".py",
   "mimetype": "text/x-python",
   "name": "python",
   "nbconvert_exporter": "python",
   "pygments_lexer": "ipython3",
   "version": "3.8.8"
  }
 },
 "nbformat": 4,
 "nbformat_minor": 5
}
